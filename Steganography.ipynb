{
 "cells": [
  {
   "cell_type": "markdown",
   "id": "65af9bc7-1bcf-48f4-bf77-a01bd2f9dedc",
   "metadata": {},
   "source": [
    "# Simple Steganography\n",
    "\n",
    "Steganography is the practice of concealing a message within another message or a physical object. In computing/electronic contexts, a computer file, message, image, or video is concealed within another file, message, image, or video.\n",
    "\n",
    "Here, we hide a message inside a RGB image. We write appropriate functions for putting the message into the image and also extracting the message from the image."
   ]
  },
  {
   "cell_type": "code",
   "execution_count": 1,
   "id": "238f281a-adc7-47a1-a4c6-d2cbc5878379",
   "metadata": {},
   "outputs": [],
   "source": [
    "from PIL import Image\n",
    "import numpy as np"
   ]
  },
  {
   "cell_type": "markdown",
   "id": "84b1b6e3-c4bc-4df0-a718-4a5e570951e6",
   "metadata": {},
   "source": [
    "### Load the image"
   ]
  },
  {
   "cell_type": "code",
   "execution_count": 2,
   "id": "72ebc402-4399-435b-bef8-96356c7720ba",
   "metadata": {},
   "outputs": [],
   "source": [
    "image = Image.open(\"./_MG_3018.jpg\")"
   ]
  },
  {
   "cell_type": "markdown",
   "id": "f759ed3c-de68-4424-b7ba-450940ed829e",
   "metadata": {},
   "source": [
    "### Resize the image\n",
    "\n",
    "We can resize the image if we want to. This is not a necessary step to perform.\n",
    "\n",
    "Initially we find out the dimensions of the original image."
   ]
  },
  {
   "cell_type": "code",
   "execution_count": 3,
   "id": "c1986817-b2d4-4377-8082-cac5321211f8",
   "metadata": {},
   "outputs": [
    {
     "name": "stdout",
     "output_type": "stream",
     "text": [
      "Dimensions of Original Image = (2667, 4000)\n"
     ]
    }
   ],
   "source": [
    "original_dimensions = (image.width, image.height)\n",
    "print(f\"Dimensions of Original Image = {original_dimensions}\")"
   ]
  },
  {
   "cell_type": "markdown",
   "id": "6ef3143a-d66e-4da6-9792-4033c04dbcd5",
   "metadata": {},
   "source": [
    "Then we calculate the dimensions of the new image. The maximum structure of the resulting image is defined by the **TARGET_DIM** variable.\n",
    "\n",
    "For example, <br>\n",
    "For square images, its size will be **TARGET_DIM x TARGET_DIM** <br>\n",
    "For landscape images, its width will be equal to **TARGET_DIM** and the height will adjust accordingly <br>\n",
    "For portrait images, its height will be equal to **TARGET_DIM** and the width will adjust accordingly"
   ]
  },
  {
   "cell_type": "code",
   "execution_count": 4,
   "id": "a84d2dca-feeb-4092-9a2c-4cd7ecbb00eb",
   "metadata": {},
   "outputs": [
    {
     "name": "stdout",
     "output_type": "stream",
     "text": [
      "Dimensions of Resized Image = (66, 100)\n"
     ]
    }
   ],
   "source": [
    "# For pictures with equal height and width\n",
    "TARGET_DIM = 100\n",
    "if(original_dimensions[0] == original_dimensions[1]):\n",
    "    factor = original_dimensions[0] // TARGET_DIM\n",
    "    dimensions = (original_dimensions[0] // factor, original_dimensions[1] // factor)\n",
    "\n",
    "# For pictures with more width than height\n",
    "elif(original_dimensions[0] > original_dimensions[1]):\n",
    "    factor = original_dimensions[0] // TARGET_DIM\n",
    "    dimensions = (original_dimensions[0] // factor, original_dimensions[1] // factor)\n",
    "\n",
    "# For pictures with more height than width\n",
    "elif(original_dimensions[0] < original_dimensions[1]):\n",
    "    factor = original_dimensions[1] // TARGET_DIM\n",
    "    dimensions = (original_dimensions[0] // factor, original_dimensions[1] // factor)\n",
    "\n",
    "print(f\"Dimensions of Resized Image = {dimensions}\")"
   ]
  },
  {
   "cell_type": "markdown",
   "id": "0de9f4f0-2635-413c-a41e-551faa7037ae",
   "metadata": {},
   "source": [
    "We do not execute the following block because we do not want to resize the image in this case. If we wanted to, we will need to uncomment it."
   ]
  },
  {
   "cell_type": "code",
   "execution_count": null,
   "id": "6a9cd676-b86e-433b-b692-c016022cb037",
   "metadata": {},
   "outputs": [],
   "source": [
    "# image = image.resize(dimensions)\n",
    "# image"
   ]
  },
  {
   "cell_type": "markdown",
   "id": "48107e13-cde9-4a2e-bde3-40aedb5c473b",
   "metadata": {},
   "source": [
    "### Convert Image to Numpy\n",
    "\n",
    "Image data is essentially a multi-dimensional array. Any modification we intend to perform on it, we have to convert it to an editable array form. For this, we convert it to Numpy arrays."
   ]
  },
  {
   "cell_type": "code",
   "execution_count": 22,
   "id": "55c4d525-32f2-4a54-845e-4f8c4db0731d",
   "metadata": {},
   "outputs": [],
   "source": [
    "img_array = np.array(image)"
   ]
  },
  {
   "cell_type": "markdown",
   "id": "52dbf936-a7a4-4224-b9f2-9b4b42b24b92",
   "metadata": {},
   "source": [
    "We print the dimensions of the matrix (representing the image). <br>\n",
    "The first value represents the hight of the image (number of rows in the matrix); the second value represents the width of the image (number of columns in the image); and the third value represents the number of channels in the image. In case of RGB images, we have 3 channels."
   ]
  },
  {
   "cell_type": "code",
   "execution_count": 23,
   "id": "8e0d1060-af24-4781-9dc1-898d596b9a15",
   "metadata": {},
   "outputs": [
    {
     "name": "stdout",
     "output_type": "stream",
     "text": [
      "Dimensions of Numpy array = (4000, 2667, 3)\n"
     ]
    }
   ],
   "source": [
    "print(f\"Dimensions of Numpy array = {img_array.shape}\")"
   ]
  },
  {
   "cell_type": "markdown",
   "id": "445685f8-7a55-407f-8a1e-f0c81c78baa2",
   "metadata": {},
   "source": [
    "### Convert ASCII String to Binary String\n",
    "\n",
    "To store ASCII text, we first convert it to binary because we store it as binary values in the image. We convert each ASCII character to a 8-bit binary value. ASCII can only take up 7 bits because it ranges from 0 to 127. The 8th bit (MSB) is used as a control bit which denotes the end of message."
   ]
  },
  {
   "cell_type": "code",
   "execution_count": 34,
   "id": "c6aba0eb-8193-465c-a603-a920a07e390f",
   "metadata": {},
   "outputs": [],
   "source": [
    "def stringToBinary(message: str) -> str:\n",
    "    output = \"\"\n",
    "    for ch in message:\n",
    "        value = (bin(ord(ch)).replace(\"0b\", \"\"))\n",
    "        \n",
    "        padding = 8 - len(value)\n",
    "        for i in range(padding):\n",
    "            value = \"0\" + value\n",
    "        \n",
    "        output += value\n",
    "    return output"
   ]
  },
  {
   "cell_type": "markdown",
   "id": "9636f13b-bbb3-4dcb-8e5e-ffae085dd331",
   "metadata": {},
   "source": [
    "### Embed Data into the Image\n",
    "\n",
    "Embed the binary string into the image provided. The *message* provided to the function should be an ASCII string and the *image* should be a Numpy array representing an RGB image, that is, it should have 3 dimensions.\n",
    "\n",
    "This function replaces the last bit of each byte with the bits of the binary message. The end of message is represented by a *1* in the MSB of the last byte."
   ]
  },
  {
   "cell_type": "code",
   "execution_count": 27,
   "id": "1930eb0a-4752-45de-b85f-3c019f8193d5",
   "metadata": {},
   "outputs": [],
   "source": [
    "def embedData(message: str, image):\n",
    "    binary_message = stringToBinary(message)\n",
    "    \n",
    "    # Check if the given message will fit into the given image\n",
    "    assert (len(binary_message) <= (image.shape[0] * image.shape[1])), \"Given message is too big to fit in the given image\"\n",
    "    \n",
    "    index = 0\n",
    "    done = False\n",
    "    for channel in range(image.shape[2]):\n",
    "        for row in range(image.shape[0]):\n",
    "            for column in range(image.shape[1]):\n",
    "                if(index == len(binary_message)):\n",
    "                    image[row][column][channel] = image[row][column][channel] | 1\n",
    "                    done = True\n",
    "                    break\n",
    "\n",
    "                binary = binary_message[index]\n",
    "\n",
    "                if(binary == \"0\"):\n",
    "                    image[row][column][channel] = image[row][column][channel] & 254\n",
    "                elif(binary == \"1\"):\n",
    "                    image[row][column][channel] = image[row][column][channel] | 1\n",
    "\n",
    "                index += 1\n",
    "\n",
    "            if(done == True):\n",
    "                break\n",
    "        if(done == True):\n",
    "            break\n",
    "    \n",
    "    return image"
   ]
  },
  {
   "cell_type": "code",
   "execution_count": 33,
   "id": "440705f0-19ef-41b6-bcbd-59f6f2aa31e0",
   "metadata": {},
   "outputs": [],
   "source": [
    "message = \"Steganography is the practice of concealing a message within another message or a physical object. In computing/electronic contexts, a computer file, message, image, or video is concealed within another file, message, image, or video.\"\n",
    "embedded_image = embedData(message, img_array)"
   ]
  },
  {
   "cell_type": "markdown",
   "id": "e99b81e8-11bb-46ef-ae9b-15db442d0539",
   "metadata": {},
   "source": [
    "### Convert Numpy array to Image"
   ]
  },
  {
   "cell_type": "code",
   "execution_count": 29,
   "id": "f0876f47-23f0-44a5-aa29-ea789673b27c",
   "metadata": {},
   "outputs": [],
   "source": [
    "new_image = Image.fromarray(embedded_image)"
   ]
  },
  {
   "cell_type": "code",
   "execution_count": null,
   "id": "49324862-2a59-4997-8d6b-a30319815c8b",
   "metadata": {},
   "outputs": [],
   "source": [
    "new_image"
   ]
  },
  {
   "cell_type": "markdown",
   "id": "3336b603-0997-46e2-af00-dbd29d48479b",
   "metadata": {},
   "source": [
    "### Extract Data from Image\n",
    "\n",
    "Extract the data which is embedded into the image. The *image* provided should be a Numpy array with 3 dimensions, essentially a RGB image. \n",
    "\n",
    "It iterates over all the bytes and extracts the last bits from each byte. It then groups them into 8 bits each and converts it into the corresponding ASCII form. This process continues until a byte is found whose MSB contains a *1* which denotes end of message. It ignores that byte and terminates."
   ]
  },
  {
   "cell_type": "code",
   "execution_count": 31,
   "id": "73e12157-81a0-44e9-b74b-3cf4d27a9a4f",
   "metadata": {},
   "outputs": [],
   "source": [
    "def extractEmbeddedData(image) -> str:\n",
    "    bit_counter = 1\n",
    "    bin_data = \"\"\n",
    "    message = \"\"\n",
    "    for channel in range(image.shape[2]):\n",
    "        for row in range(image.shape[0]):\n",
    "            for column in range(image.shape[1]):\n",
    "                bin_data += str(image[row][column][channel] % 2)\n",
    "\n",
    "                if(bit_counter % 8 == 0):\n",
    "                    # Terminating condition\n",
    "                    if(bin_data[0] == \"1\"):\n",
    "                        return message\n",
    "                    else:\n",
    "                        message += chr(int(bin_data, 2))\n",
    "\n",
    "                    # Reset the temporary variables\n",
    "                    bin_data = \"\"\n",
    "\n",
    "                bit_counter += 1"
   ]
  },
  {
   "cell_type": "code",
   "execution_count": 35,
   "id": "f626e7ac-ce40-40bb-9624-37ce6881db19",
   "metadata": {},
   "outputs": [
    {
     "data": {
      "text/plain": [
       "'Steganography is the practice of concealing a message within another message or a physical object. In computing/electronic contexts, a computer file, message, image, or video is concealed within another file, message, image, or video.'"
      ]
     },
     "execution_count": 35,
     "metadata": {},
     "output_type": "execute_result"
    }
   ],
   "source": [
    "extractEmbeddedData(np.array(new_image))"
   ]
  }
 ],
 "metadata": {
  "environment": {
   "kernel": "python3",
   "name": "tf2-gpu.2-6.m87",
   "type": "gcloud",
   "uri": "gcr.io/deeplearning-platform-release/tf2-gpu.2-6:m87"
  },
  "kernelspec": {
   "display_name": "Python 3",
   "language": "python",
   "name": "python3"
  },
  "language_info": {
   "codemirror_mode": {
    "name": "ipython",
    "version": 3
   },
   "file_extension": ".py",
   "mimetype": "text/x-python",
   "name": "python",
   "nbconvert_exporter": "python",
   "pygments_lexer": "ipython3",
   "version": "3.7.12"
  }
 },
 "nbformat": 4,
 "nbformat_minor": 5
}
